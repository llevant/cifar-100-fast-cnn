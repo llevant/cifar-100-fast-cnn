{
 "cells": [
  {
   "cell_type": "markdown",
   "id": "be5ffa26",
   "metadata": {
    "papermill": {
     "duration": 0.003496,
     "end_time": "2023-01-23T18:25:35.579659",
     "exception": false,
     "start_time": "2023-01-23T18:25:35.576163",
     "status": "completed"
    },
    "tags": []
   },
   "source": [
    "**Классификация изображений с помощью сверточных нейронных сетей**\n",
    "\n",
    "В данном задании необходимо разработать архитектуру сверточной ИНС, обеспечивающую наибольшую точность при ограничении на количество операций (FLOPs <= 0.707e6).\n",
    "Заготовка кода для выполнения задания приведена выше. Вашей задачей будет заполнить пропущеные места, которые отмечены ключевым словом *None*.\n",
    "Необходимая точность (accuracy) сети на датасете CIFAR100 - 30%\n",
    "Желаемая точность (accuracy) сети на датасете CIFAR100 - 45%"
   ]
  },
  {
   "cell_type": "code",
   "execution_count": 1,
   "id": "abf032ad",
   "metadata": {
    "_cell_guid": "b1076dfc-b9ad-4769-8c92-a6c4dae69d19",
    "_uuid": "8f2839f25d086af736a60e9eeb907d3b93b6e0e5",
    "papermill": {
     "duration": null,
     "end_time": null,
     "exception": null,
     "start_time": null,
     "status": "pending"
    },
    "tags": []
   },
   "outputs": [
    {
     "name": "stderr",
     "output_type": "stream",
     "text": [
      "2023-01-26 13:36:42.083105: I tensorflow/core/platform/cpu_feature_guard.cc:193] This TensorFlow binary is optimized with oneAPI Deep Neural Network Library (oneDNN) to use the following CPU instructions in performance-critical operations:  AVX2 FMA\n",
      "To enable them in other operations, rebuild TensorFlow with the appropriate compiler flags.\n",
      "2023-01-26 13:36:42.252642: W tensorflow/compiler/xla/stream_executor/platform/default/dso_loader.cc:64] Could not load dynamic library 'libcudart.so.11.0'; dlerror: libcudart.so.11.0: cannot open shared object file: No such file or directory\n",
      "2023-01-26 13:36:42.252665: I tensorflow/compiler/xla/stream_executor/cuda/cudart_stub.cc:29] Ignore above cudart dlerror if you do not have a GPU set up on your machine.\n",
      "2023-01-26 13:36:43.001282: W tensorflow/compiler/xla/stream_executor/platform/default/dso_loader.cc:64] Could not load dynamic library 'libnvinfer.so.7'; dlerror: libnvinfer.so.7: cannot open shared object file: No such file or directory\n",
      "2023-01-26 13:36:43.001343: W tensorflow/compiler/xla/stream_executor/platform/default/dso_loader.cc:64] Could not load dynamic library 'libnvinfer_plugin.so.7'; dlerror: libnvinfer_plugin.so.7: cannot open shared object file: No such file or directory\n",
      "2023-01-26 13:36:43.001350: W tensorflow/compiler/tf2tensorrt/utils/py_utils.cc:38] TF-TRT Warning: Cannot dlopen some TensorRT libraries. If you would like to use Nvidia GPU with TensorRT, please make sure the missing libraries mentioned above are installed properly.\n"
     ]
    }
   ],
   "source": [
    "# Импорт необходимых библиотек\n",
    "import numpy as np\n",
    "import pandas as pd\n",
    "import tensorflow as tf\n",
    "from keras_flops import get_flops"
   ]
  },
  {
   "cell_type": "code",
   "execution_count": 2,
   "id": "3ad364d8",
   "metadata": {
    "papermill": {
     "duration": null,
     "end_time": null,
     "exception": null,
     "start_time": null,
     "status": "pending"
    },
    "tags": []
   },
   "outputs": [],
   "source": [
    "# Глобальные константы\n",
    "CLASSES       = 100\n",
    "BATCH_SIZE    = 128\n",
    "LEARNING_RATE = 1e-2"
   ]
  },
  {
   "cell_type": "code",
   "execution_count": 3,
   "id": "f6bd608b",
   "metadata": {
    "papermill": {
     "duration": null,
     "end_time": null,
     "exception": null,
     "start_time": null,
     "status": "pending"
    },
    "tags": []
   },
   "outputs": [],
   "source": [
    "# Выполните загрузку модели\n",
    "(X_train, y_train), (X_val, y_val) = tf.keras.datasets.cifar100.load_data()"
   ]
  },
  {
   "cell_type": "code",
   "execution_count": 4,
   "id": "a91182d8",
   "metadata": {
    "papermill": {
     "duration": null,
     "end_time": null,
     "exception": null,
     "start_time": null,
     "status": "pending"
    },
    "tags": []
   },
   "outputs": [
    {
     "name": "stderr",
     "output_type": "stream",
     "text": [
      "2023-01-26 13:36:44.781956: I tensorflow/compiler/xla/stream_executor/cuda/cuda_gpu_executor.cc:981] successful NUMA node read from SysFS had negative value (-1), but there must be at least one NUMA node, so returning NUMA node zero\n",
      "2023-01-26 13:36:44.782234: W tensorflow/compiler/xla/stream_executor/platform/default/dso_loader.cc:64] Could not load dynamic library 'libcudart.so.11.0'; dlerror: libcudart.so.11.0: cannot open shared object file: No such file or directory\n",
      "2023-01-26 13:36:44.782285: W tensorflow/compiler/xla/stream_executor/platform/default/dso_loader.cc:64] Could not load dynamic library 'libcublas.so.11'; dlerror: libcublas.so.11: cannot open shared object file: No such file or directory\n",
      "2023-01-26 13:36:44.782326: W tensorflow/compiler/xla/stream_executor/platform/default/dso_loader.cc:64] Could not load dynamic library 'libcublasLt.so.11'; dlerror: libcublasLt.so.11: cannot open shared object file: No such file or directory\n",
      "2023-01-26 13:36:44.785247: W tensorflow/compiler/xla/stream_executor/platform/default/dso_loader.cc:64] Could not load dynamic library 'libcusolver.so.11'; dlerror: libcusolver.so.11: cannot open shared object file: No such file or directory\n",
      "2023-01-26 13:36:44.785293: W tensorflow/compiler/xla/stream_executor/platform/default/dso_loader.cc:64] Could not load dynamic library 'libcusparse.so.11'; dlerror: libcusparse.so.11: cannot open shared object file: No such file or directory\n",
      "2023-01-26 13:36:44.785334: W tensorflow/compiler/xla/stream_executor/platform/default/dso_loader.cc:64] Could not load dynamic library 'libcudnn.so.8'; dlerror: libcudnn.so.8: cannot open shared object file: No such file or directory\n",
      "2023-01-26 13:36:44.785341: W tensorflow/core/common_runtime/gpu/gpu_device.cc:1934] Cannot dlopen some GPU libraries. Please make sure the missing libraries mentioned above are installed properly if you would like to use GPU. Follow the guide at https://www.tensorflow.org/install/gpu for how to download and setup the required libraries for your platform.\n",
      "Skipping registering GPU devices...\n",
      "2023-01-26 13:36:44.786458: I tensorflow/core/platform/cpu_feature_guard.cc:193] This TensorFlow binary is optimized with oneAPI Deep Neural Network Library (oneDNN) to use the following CPU instructions in performance-critical operations:  AVX2 FMA\n",
      "To enable them in other operations, rebuild TensorFlow with the appropriate compiler flags.\n"
     ]
    }
   ],
   "source": [
    "# Преобразуйте метки классов в one_hot формат\n",
    "y_train = tf.one_hot(y_train, CLASSES)\n",
    "y_val = tf.one_hot(y_val, CLASSES)"
   ]
  },
  {
   "cell_type": "code",
   "execution_count": 5,
   "id": "472b1829",
   "metadata": {},
   "outputs": [],
   "source": [
    "y_train = np.reshape(y_train.numpy(), (50000, 100))\n",
    "y_val = np.reshape(y_val.numpy(), (10000, 100))"
   ]
  },
  {
   "cell_type": "code",
   "execution_count": 6,
   "id": "19b2c913",
   "metadata": {
    "papermill": {
     "duration": null,
     "end_time": null,
     "exception": null,
     "start_time": null,
     "status": "pending"
    },
    "tags": []
   },
   "outputs": [],
   "source": [
    "# убедитесь, что данная ячейка выполняется без ошибок\n",
    "assert X_train.shape == (50000, 32, 32, 3)\n",
    "assert X_val.shape == (10000, 32, 32, 3)\n",
    "assert y_train.shape == (50000, 100)\n",
    "assert y_val.shape == (10000, 100)"
   ]
  },
  {
   "cell_type": "code",
   "execution_count": 7,
   "id": "758c030e",
   "metadata": {},
   "outputs": [],
   "source": [
    "import keras\n",
    "from tensorflow.keras import layers\n",
    "from keras.models import Sequential"
   ]
  },
  {
   "cell_type": "code",
   "execution_count": 8,
   "id": "6caa38c1",
   "metadata": {},
   "outputs": [],
   "source": [
    "from tensorflow.keras.layers import Input, Activation, Conv2D, BatchNormalization, Flatten, Dense, MaxPooling2D, Dropout, SeparableConv2D"
   ]
  },
  {
   "cell_type": "code",
   "execution_count": 54,
   "id": "ddaff3f9",
   "metadata": {
    "papermill": {
     "duration": null,
     "end_time": null,
     "exception": null,
     "start_time": null,
     "status": "pending"
    },
    "tags": []
   },
   "outputs": [],
   "source": [
    "# Задайте архитектуру модели\n",
    "model = Sequential([\n",
    "    Input(shape=[32,32,3]),\n",
    "    \n",
    "    Conv2D(32, 3, padding='same', strides = (2, 2)),\n",
    "    BatchNormalization(),\n",
    "    Activation('leaky_relu'),\n",
    "    MaxPooling2D(pool_size=(2, 2)),\n",
    "    Dropout(.05),\n",
    "    \n",
    "    SeparableConv2D(64, 5, padding='same', strides = (2, 2)),\n",
    "    BatchNormalization(),\n",
    "    Activation('leaky_relu'),\n",
    "    MaxPooling2D(pool_size=(2, 2)),\n",
    "    Dropout(.05),\n",
    "    \n",
    "    Flatten(),\n",
    "    Dense(185),\n",
    "    BatchNormalization(),\n",
    "    Activation('selu'),\n",
    "    #Dropout(.1),\n",
    "    Dense(CLASSES),\n",
    "    BatchNormalization(),\n",
    "    Activation('softmax')\n",
    "])"
   ]
  },
  {
   "cell_type": "code",
   "execution_count": 55,
   "id": "ef225707",
   "metadata": {
    "papermill": {
     "duration": null,
     "end_time": null,
     "exception": null,
     "start_time": null,
     "status": "pending"
    },
    "tags": []
   },
   "outputs": [
    {
     "name": "stdout",
     "output_type": "stream",
     "text": [
      "\n",
      "=========================Options=============================\n",
      "-max_depth                  10000\n",
      "-min_bytes                  0\n",
      "-min_peak_bytes             0\n",
      "-min_residual_bytes         0\n",
      "-min_output_bytes           0\n",
      "-min_micros                 0\n",
      "-min_accelerator_micros     0\n",
      "-min_cpu_micros             0\n",
      "-min_params                 0\n",
      "-min_float_ops              1\n",
      "-min_occurrence             0\n",
      "-step                       -1\n",
      "-order_by                   float_ops\n",
      "-account_type_regexes       .*\n",
      "-start_name_regexes         .*\n",
      "-trim_name_regexes          \n",
      "-show_name_regexes          .*\n",
      "-hide_name_regexes          \n",
      "-account_displayed_op_only  true\n",
      "-select                     float_ops\n",
      "-output                     stdout:\n",
      "\n",
      "==================Model Analysis Report======================\n",
      "\n",
      "Doc:\n",
      "scope: The nodes in the model graph are organized by their names, which is hierarchical like filesystem.\n",
      "flops: Number of float operations. Note: Please read the implementation for the math behind it.\n",
      "\n",
      "Profi"
     ]
    },
    {
     "name": "stderr",
     "output_type": "stream",
     "text": [
      "2023-01-26 13:59:58.220001: I tensorflow/compiler/xla/stream_executor/cuda/cuda_gpu_executor.cc:981] successful NUMA node read from SysFS had negative value (-1), but there must be at least one NUMA node, so returning NUMA node zero\n",
      "2023-01-26 13:59:58.220245: I tensorflow/core/grappler/devices.cc:66] Number of eligible GPUs (core count >= 8, compute capability >= 0.0): 1\n",
      "2023-01-26 13:59:58.220294: I tensorflow/core/grappler/clusters/single_machine.cc:358] Starting new session\n",
      "2023-01-26 13:59:58.220539: I tensorflow/compiler/xla/stream_executor/cuda/cuda_gpu_executor.cc:981] successful NUMA node read from SysFS had negative value (-1), but there must be at least one NUMA node, so returning NUMA node zero\n",
      "2023-01-26 13:59:58.220750: W tensorflow/core/common_runtime/gpu/gpu_device.cc:1934] Cannot dlopen some GPU libraries. Please make sure the missing libraries mentioned above are installed properly if you would like to use GPU. Follow the guide at https://www.tensorflow.org/install/gpu for how to download and setup the required libraries for your platform.\n",
      "Skipping registering GPU devices...\n"
     ]
    },
    {
     "name": "stdout",
     "output_type": "stream",
     "text": [
      "le:\n",
      "node name | # float_ops\n",
      "_TFProfRoot (--/705.73k flops)\n",
      "  sequential_10/conv2d_10/Conv2D (442.37k/442.37k flops)\n",
      "  sequential_10/dense_20/MatMul (94.72k/94.72k flops)\n",
      "  sequential_10/separable_conv2d_10/separable_conv2d (65.54k/91.14k flops)\n",
      "    sequential_10/separable_conv2d_10/separable_conv2d/depthwise (25.60k/25.60k flops)\n",
      "  sequential_10/dense_21/MatMul (37.00k/37.00k flops)\n",
      "  sequential_10/batch_normalization_40/FusedBatchNormV3 (16.58k/16.58k flops)\n",
      "  sequential_10/conv2d_10/BiasAdd (8.19k/8.19k flops)\n",
      "  sequential_10/max_pooling2d_20/MaxPool (8.19k/8.19k flops)\n",
      "  sequential_10/batch_normalization_41/FusedBatchNormV3 (2.43k/2.43k flops)\n",
      "  sequential_10/max_pooling2d_21/MaxPool (1.02k/1.02k flops)\n",
      "  sequential_10/separable_conv2d_10/BiasAdd (1.02k/1.02k flops)\n",
      "  sequential_10/activation_43/Softmax (500/500 flops)\n",
      "  sequential_10/batch_normalization_42/batchnorm/Rsqrt (370/370 flops)\n",
      "  sequential_10/batch_normalization_43/batchnorm/Rsqrt (200/200 flops)\n",
      "  sequential_10/batch_normalization_42/batchnorm/add (185/185 flops)\n",
      "  sequential_10/batch_normalization_42/batchnorm/add_1 (185/185 flops)\n",
      "  sequential_10/batch_normalization_42/batchnorm/mul (185/185 flops)\n",
      "  sequential_10/batch_normalization_42/batchnorm/mul_1 (185/185 flops)\n",
      "  sequential_10/batch_normalization_42/batchnorm/mul_2 (185/185 flops)\n",
      "  sequential_10/batch_normalization_42/batchnorm/sub (185/185 flops)\n",
      "  sequential_10/dense_20/BiasAdd (185/185 flops)\n",
      "  sequential_10/batch_normalization_43/batchnorm/add (100/100 flops)\n",
      "  sequential_10/batch_normalization_43/batchnorm/add_1 (100/100 flops)\n",
      "  sequential_10/batch_normalization_43/batchnorm/mul (100/100 flops)\n",
      "  sequential_10/batch_normalization_43/batchnorm/mul_1 (100/100 flops)\n",
      "  sequential_10/batch_normalization_43/batchnorm/mul_2 (100/100 flops)\n",
      "  sequential_10/batch_normalization_43/batchnorm/sub (100/100 flops)\n",
      "  sequential_10/dense_21/BiasAdd (100/100 flops)\n",
      "\n",
      "======================End of Report==========================\n"
     ]
    }
   ],
   "source": [
    "# вычисление количества операций\n",
    "flops = get_flops(model, batch_size=1)"
   ]
  },
  {
   "cell_type": "code",
   "execution_count": 56,
   "id": "299c2827",
   "metadata": {},
   "outputs": [
    {
     "name": "stdout",
     "output_type": "stream",
     "text": [
      "FLOPs: 0.7057e6\n"
     ]
    }
   ],
   "source": [
    "print(f\"FLOPs: {(flops / 1e6):.4f}e6\")"
   ]
  },
  {
   "cell_type": "code",
   "execution_count": 57,
   "id": "de1d9567",
   "metadata": {
    "papermill": {
     "duration": null,
     "end_time": null,
     "exception": null,
     "start_time": null,
     "status": "pending"
    },
    "tags": []
   },
   "outputs": [
    {
     "name": "stdout",
     "output_type": "stream",
     "text": [
      "Model: \"sequential_10\"\n",
      "_________________________________________________________________\n",
      " Layer (type)                Output Shape              Param #   \n",
      "=================================================================\n",
      " conv2d_10 (Conv2D)          (None, 16, 16, 32)        896       \n",
      "                                                                 \n",
      " batch_normalization_40 (Bat  (None, 16, 16, 32)       128       \n",
      " chNormalization)                                                \n",
      "                                                                 \n",
      " activation_40 (Activation)  (None, 16, 16, 32)        0         \n",
      "                                                                 \n",
      " max_pooling2d_20 (MaxPoolin  (None, 8, 8, 32)         0         \n",
      " g2D)                                                            \n",
      "                                                                 \n",
      " dropout_13 (Dropout)        (None, 8, 8, 32)          0         \n",
      "                                                                 \n",
      " separable_conv2d_10 (Separa  (None, 4, 4, 64)         2912      \n",
      " bleConv2D)                                                      \n",
      "                                                                 \n",
      " batch_normalization_41 (Bat  (None, 4, 4, 64)         256       \n",
      " chNormalization)                                                \n",
      "                                                                 \n",
      " activation_41 (Activation)  (None, 4, 4, 64)          0         \n",
      "                                                                 \n",
      " max_pooling2d_21 (MaxPoolin  (None, 2, 2, 64)         0         \n",
      " g2D)                                                            \n",
      "                                                                 \n",
      " dropout_14 (Dropout)        (None, 2, 2, 64)          0         \n",
      "                                                                 \n",
      " flatten_10 (Flatten)        (None, 256)               0         \n",
      "                                                                 \n",
      " dense_20 (Dense)            (None, 185)               47545     \n",
      "                                                                 \n",
      " batch_normalization_42 (Bat  (None, 185)              740       \n",
      " chNormalization)                                                \n",
      "                                                                 \n",
      " activation_42 (Activation)  (None, 185)               0         \n",
      "                                                                 \n",
      " dense_21 (Dense)            (None, 100)               18600     \n",
      "                                                                 \n",
      " batch_normalization_43 (Bat  (None, 100)              400       \n",
      " chNormalization)                                                \n",
      "                                                                 \n",
      " activation_43 (Activation)  (None, 100)               0         \n",
      "                                                                 \n",
      "=================================================================\n",
      "Total params: 71,477\n",
      "Trainable params: 70,715\n",
      "Non-trainable params: 762\n",
      "_________________________________________________________________\n"
     ]
    }
   ],
   "source": [
    "# вывод краткой информации о модели\n",
    "model.summary()"
   ]
  },
  {
   "cell_type": "code",
   "execution_count": 58,
   "id": "e927e234",
   "metadata": {
    "papermill": {
     "duration": null,
     "end_time": null,
     "exception": null,
     "start_time": null,
     "status": "pending"
    },
    "tags": []
   },
   "outputs": [],
   "source": [
    "# параметры данной ячейки могут быть изменены для получения более высокой точности\n",
    "model.compile(\n",
    "    optimizer=tf.keras.optimizers.experimental.AdamW(\n",
    "        learning_rate=tf.keras.optimizers.schedules.ExponentialDecay(initial_learning_rate=LEARNING_RATE, decay_steps=1000, decay_rate=0.5)\n",
    "    ),\n",
    "    loss=tf.keras.losses.CategoricalCrossentropy(),\n",
    "    metrics=['accuracy']\n",
    ")"
   ]
  },
  {
   "cell_type": "code",
   "execution_count": 59,
   "id": "49dfe428",
   "metadata": {
    "papermill": {
     "duration": null,
     "end_time": null,
     "exception": null,
     "start_time": null,
     "status": "pending"
    },
    "scrolled": true,
    "tags": []
   },
   "outputs": [
    {
     "name": "stdout",
     "output_type": "stream",
     "text": [
      "Epoch 1/50\n",
      "391/391 [==============================] - 6s 13ms/step - loss: 3.5054 - accuracy: 0.1830 - val_loss: 3.8008 - val_accuracy: 0.1534\n",
      "Epoch 2/50\n",
      "391/391 [==============================] - 5s 13ms/step - loss: 2.9600 - accuracy: 0.2742 - val_loss: 3.2183 - val_accuracy: 0.2244\n",
      "Epoch 3/50\n",
      "391/391 [==============================] - 5s 13ms/step - loss: 2.7278 - accuracy: 0.3156 - val_loss: 2.7173 - val_accuracy: 0.3210\n",
      "Epoch 4/50\n",
      "391/391 [==============================] - 5s 13ms/step - loss: 2.5783 - accuracy: 0.3464 - val_loss: 2.5791 - val_accuracy: 0.3541\n",
      "Epoch 5/50\n",
      "391/391 [==============================] - 5s 14ms/step - loss: 2.4692 - accuracy: 0.3665 - val_loss: 2.5319 - val_accuracy: 0.3634\n",
      "Epoch 6/50\n",
      "391/391 [==============================] - 5s 13ms/step - loss: 2.3847 - accuracy: 0.3848 - val_loss: 2.5170 - val_accuracy: 0.3600\n",
      "Epoch 7/50\n",
      "391/391 [==============================] - 5s 13ms/step - loss: 2.3218 - accuracy: 0.3983 - val_loss: 2.4108 - val_accuracy: 0.3900\n",
      "Epoch 8/50\n",
      "391/391 [==============================] - 5s 13ms/step - loss: 2.2679 - accuracy: 0.4113 - val_loss: 2.3865 - val_accuracy: 0.3927\n",
      "Epoch 9/50\n",
      "391/391 [==============================] - 5s 13ms/step - loss: 2.2261 - accuracy: 0.4208 - val_loss: 2.3720 - val_accuracy: 0.4012\n",
      "Epoch 10/50\n",
      "391/391 [==============================] - 5s 14ms/step - loss: 2.1968 - accuracy: 0.4281 - val_loss: 2.3569 - val_accuracy: 0.3991\n",
      "Epoch 11/50\n",
      "391/391 [==============================] - 5s 14ms/step - loss: 2.1707 - accuracy: 0.4311 - val_loss: 2.3534 - val_accuracy: 0.4066\n",
      "Epoch 12/50\n",
      "391/391 [==============================] - 5s 13ms/step - loss: 2.1522 - accuracy: 0.4353 - val_loss: 2.3519 - val_accuracy: 0.4029\n",
      "Epoch 13/50\n",
      "391/391 [==============================] - 5s 13ms/step - loss: 2.1357 - accuracy: 0.4392 - val_loss: 2.3646 - val_accuracy: 0.4017\n",
      "Epoch 14/50\n",
      "391/391 [==============================] - 5s 13ms/step - loss: 2.1199 - accuracy: 0.4408 - val_loss: 2.3394 - val_accuracy: 0.4049\n",
      "Epoch 15/50\n",
      "391/391 [==============================] - 5s 13ms/step - loss: 2.1145 - accuracy: 0.4438 - val_loss: 2.3284 - val_accuracy: 0.4114\n",
      "Epoch 16/50\n",
      "391/391 [==============================] - 6s 15ms/step - loss: 2.1079 - accuracy: 0.4455 - val_loss: 2.3255 - val_accuracy: 0.4103\n",
      "Epoch 17/50\n",
      "391/391 [==============================] - 6s 14ms/step - loss: 2.1082 - accuracy: 0.4450 - val_loss: 2.3340 - val_accuracy: 0.4089\n",
      "Epoch 18/50\n",
      "391/391 [==============================] - 5s 13ms/step - loss: 2.0956 - accuracy: 0.4476 - val_loss: 2.3251 - val_accuracy: 0.4102\n",
      "Epoch 19/50\n",
      "391/391 [==============================] - 5s 13ms/step - loss: 2.0976 - accuracy: 0.4485 - val_loss: 2.3241 - val_accuracy: 0.4116\n",
      "Epoch 20/50\n",
      "391/391 [==============================] - 5s 13ms/step - loss: 2.0931 - accuracy: 0.4481 - val_loss: 2.3241 - val_accuracy: 0.4114\n",
      "Epoch 21/50\n",
      "391/391 [==============================] - 5s 13ms/step - loss: 2.0919 - accuracy: 0.4503 - val_loss: 2.3229 - val_accuracy: 0.4106\n",
      "Epoch 22/50\n",
      "391/391 [==============================] - 5s 14ms/step - loss: 2.0900 - accuracy: 0.4490 - val_loss: 2.3236 - val_accuracy: 0.4102\n",
      "Epoch 23/50\n",
      "391/391 [==============================] - 5s 12ms/step - loss: 2.0870 - accuracy: 0.4503 - val_loss: 2.3236 - val_accuracy: 0.4115\n",
      "Epoch 24/50\n",
      "391/391 [==============================] - 5s 12ms/step - loss: 2.0948 - accuracy: 0.4493 - val_loss: 2.3228 - val_accuracy: 0.4122\n",
      "Epoch 25/50\n",
      "391/391 [==============================] - 5s 13ms/step - loss: 2.0864 - accuracy: 0.4508 - val_loss: 2.3230 - val_accuracy: 0.4124\n",
      "Epoch 26/50\n",
      "391/391 [==============================] - 5s 14ms/step - loss: 2.0879 - accuracy: 0.4508 - val_loss: 2.3219 - val_accuracy: 0.4121\n",
      "Epoch 27/50\n",
      "391/391 [==============================] - 6s 15ms/step - loss: 2.0887 - accuracy: 0.4510 - val_loss: 2.3222 - val_accuracy: 0.4111\n",
      "Epoch 28/50\n",
      "391/391 [==============================] - 5s 14ms/step - loss: 2.0860 - accuracy: 0.4505 - val_loss: 2.3226 - val_accuracy: 0.4107\n",
      "Epoch 29/50\n",
      "391/391 [==============================] - 5s 13ms/step - loss: 2.0867 - accuracy: 0.4513 - val_loss: 2.3230 - val_accuracy: 0.4119\n",
      "Epoch 30/50\n",
      "391/391 [==============================] - 5s 13ms/step - loss: 2.0863 - accuracy: 0.4518 - val_loss: 2.3228 - val_accuracy: 0.4120\n",
      "Epoch 31/50\n",
      "391/391 [==============================] - 5s 13ms/step - loss: 2.0817 - accuracy: 0.4523 - val_loss: 2.3227 - val_accuracy: 0.4115\n",
      "Epoch 32/50\n",
      "391/391 [==============================] - 5s 13ms/step - loss: 2.0841 - accuracy: 0.4508 - val_loss: 2.3224 - val_accuracy: 0.4111\n",
      "Epoch 33/50\n",
      "391/391 [==============================] - 5s 14ms/step - loss: 2.0925 - accuracy: 0.4498 - val_loss: 2.3232 - val_accuracy: 0.4106\n",
      "Epoch 34/50\n",
      "391/391 [==============================] - 6s 14ms/step - loss: 2.0844 - accuracy: 0.4486 - val_loss: 2.3229 - val_accuracy: 0.4121\n",
      "Epoch 35/50\n",
      "391/391 [==============================] - 6s 15ms/step - loss: 2.0865 - accuracy: 0.4501 - val_loss: 2.3228 - val_accuracy: 0.4127\n",
      "Epoch 36/50\n",
      "391/391 [==============================] - 6s 14ms/step - loss: 2.0837 - accuracy: 0.4508 - val_loss: 2.3226 - val_accuracy: 0.4102\n",
      "Epoch 37/50\n",
      "391/391 [==============================] - 6s 14ms/step - loss: 2.0867 - accuracy: 0.4505 - val_loss: 2.3228 - val_accuracy: 0.4115\n",
      "Epoch 38/50\n",
      "391/391 [==============================] - 5s 14ms/step - loss: 2.0821 - accuracy: 0.4527 - val_loss: 2.3231 - val_accuracy: 0.4107\n",
      "Epoch 39/50\n",
      "391/391 [==============================] - 5s 14ms/step - loss: 2.0875 - accuracy: 0.4499 - val_loss: 2.3231 - val_accuracy: 0.4114\n",
      "Epoch 40/50\n",
      "391/391 [==============================] - 6s 14ms/step - loss: 2.0806 - accuracy: 0.4502 - val_loss: 2.3222 - val_accuracy: 0.4127\n",
      "Epoch 41/50\n",
      "391/391 [==============================] - 5s 14ms/step - loss: 2.0901 - accuracy: 0.4513 - val_loss: 2.3224 - val_accuracy: 0.4108\n",
      "Epoch 42/50\n",
      "391/391 [==============================] - 5s 14ms/step - loss: 2.0849 - accuracy: 0.4515 - val_loss: 2.3228 - val_accuracy: 0.4120\n",
      "Epoch 43/50\n",
      "391/391 [==============================] - 5s 13ms/step - loss: 2.0830 - accuracy: 0.4522 - val_loss: 2.3224 - val_accuracy: 0.4114\n",
      "Epoch 44/50\n",
      "391/391 [==============================] - 5s 13ms/step - loss: 2.0809 - accuracy: 0.4506 - val_loss: 2.3222 - val_accuracy: 0.4115\n",
      "Epoch 45/50\n",
      "391/391 [==============================] - 5s 13ms/step - loss: 2.0905 - accuracy: 0.4483 - val_loss: 2.3227 - val_accuracy: 0.4125\n",
      "Epoch 46/50\n",
      "391/391 [==============================] - 5s 13ms/step - loss: 2.0859 - accuracy: 0.4502 - val_loss: 2.3220 - val_accuracy: 0.4108\n",
      "Epoch 47/50\n",
      "391/391 [==============================] - 5s 14ms/step - loss: 2.0878 - accuracy: 0.4485 - val_loss: 2.3224 - val_accuracy: 0.4111\n",
      "Epoch 48/50\n",
      "391/391 [==============================] - 5s 14ms/step - loss: 2.0844 - accuracy: 0.4515 - val_loss: 2.3227 - val_accuracy: 0.4118\n",
      "Epoch 49/50\n",
      "391/391 [==============================] - 5s 14ms/step - loss: 2.0826 - accuracy: 0.4526 - val_loss: 2.3230 - val_accuracy: 0.4116\n",
      "Epoch 50/50\n",
      "391/391 [==============================] - 5s 14ms/step - loss: 2.0865 - accuracy: 0.4513 - val_loss: 2.3226 - val_accuracy: 0.4113\n"
     ]
    },
    {
     "data": {
      "text/plain": [
       "<keras.callbacks.History at 0x7fb05814ee80>"
      ]
     },
     "execution_count": 59,
     "metadata": {},
     "output_type": "execute_result"
    }
   ],
   "source": [
    "# обучение модели\n",
    "model.fit(\n",
    "    x=X_train,\n",
    "    y=y_train,\n",
    "    validation_data=(X_val, y_val),\n",
    "    batch_size=BATCH_SIZE,\n",
    "    callbacks=[\n",
    "        tf.keras.callbacks.ModelCheckpoint(filepath=\"{epoch:02d}-{val_accuracy:.2f}.hdf5\", save_best_only=True),\n",
    "        \n",
    "    ],\n",
    "    use_multiprocessing=True,\n",
    "    workers=8,\n",
    "    epochs=50\n",
    ")"
   ]
  },
  {
   "cell_type": "code",
   "execution_count": null,
   "id": "5cf24a44",
   "metadata": {},
   "outputs": [],
   "source": []
  }
 ],
 "metadata": {
  "kernelspec": {
   "display_name": "Python 3 (ipykernel)",
   "language": "python",
   "name": "python3"
  },
  "language_info": {
   "codemirror_mode": {
    "name": "ipython",
    "version": 3
   },
   "file_extension": ".py",
   "mimetype": "text/x-python",
   "name": "python",
   "nbconvert_exporter": "python",
   "pygments_lexer": "ipython3",
   "version": "3.8.3"
  },
  "papermill": {
   "default_parameters": {},
   "duration": null,
   "end_time": null,
   "environment_variables": {},
   "exception": null,
   "input_path": "__notebook__.ipynb",
   "output_path": "__notebook__.ipynb",
   "parameters": {},
   "start_time": "2023-01-23T18:25:27.801839",
   "version": "2.3.4"
  }
 },
 "nbformat": 4,
 "nbformat_minor": 5
}
